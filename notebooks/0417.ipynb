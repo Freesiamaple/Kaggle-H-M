{
 "cells": [
  {
   "cell_type": "code",
   "execution_count": 125,
   "metadata": {},
   "outputs": [],
   "source": [
    "import pandas as pd\n",
    "import numpy as np"
   ]
  },
  {
   "cell_type": "markdown",
   "metadata": {},
   "source": [
    "### やること\n",
    "- いったん出すやつsubmissionのIDごとに処理\n",
    "    - これまでの購入リストからIDで探索 そいつのこれまでのarticleID を取得\n",
    "    - 購入した品物の index group ID の最頻値を決定\n",
    "    - 年齢と最頻値からグループ決定，トップ１２位をそいつの予測とする\n",
    "        - 年齢の欠損や，グループでの予測がないときは全体のトップ１２で代用する   - やること\n",
    "-   "
   ]
  },
  {
   "cell_type": "code",
   "execution_count": 126,
   "metadata": {},
   "outputs": [],
   "source": [
    "# DATA_DIR = \"./temp_data/0320_final.pkl\"\n",
    "DATA_DIR = \"./temp_data/0320_final_full.pkl\"\n",
    "topn_df = pd.read_pickle(DATA_DIR)\n"
   ]
  },
  {
   "cell_type": "code",
   "execution_count": 127,
   "metadata": {},
   "outputs": [],
   "source": [
    "# データの読み込み\n",
    "DATA_DIR = \"../data/original/\"\n",
    "articles_df=pd.read_pickle(f'{DATA_DIR}articles.pkl')\n",
    "customers_df=pd.read_pickle(f'{DATA_DIR}customers.pkl')\n",
    "transactions_train_df=pd.read_pickle(f'{DATA_DIR}transactions_train.pkl')\n",
    "\n",
    "sample_submission_df = pd.read_pickle(f'{DATA_DIR}sample_submission.pkl')"
   ]
  },
  {
   "cell_type": "code",
   "execution_count": 128,
   "metadata": {},
   "outputs": [
    {
     "name": "stdout",
     "output_type": "stream",
     "text": [
      "<class 'pandas.core.frame.DataFrame'>\n",
      "RangeIndex: 31788324 entries, 0 to 31788323\n",
      "Data columns (total 5 columns):\n",
      " #   Column            Dtype \n",
      "---  ------            ----- \n",
      " 0   t_dat             object\n",
      " 1   customer_id       object\n",
      " 2   article_id        object\n",
      " 3   price             object\n",
      " 4   sales_channel_id  object\n",
      "dtypes: object(5)\n",
      "memory usage: 1.2+ GB\n"
     ]
    }
   ],
   "source": [
    "transactions_train_df.info()"
   ]
  },
  {
   "cell_type": "markdown",
   "metadata": {},
   "source": [
    "- submission ID ごとに\n",
    "    - customerから年齢検索，10刻みの形に\n",
    "    - transactionからarticleIDを探索，article使ってindex_group_noを取得"
   ]
  },
  {
   "cell_type": "code",
   "execution_count": 35,
   "metadata": {},
   "outputs": [],
   "source": [
    "# articles_df = articles_df.head(10000)\n",
    "# customers_df = customers_df.head(10000)\n",
    "# transactions_train_df = transactions_train_df.head(10000)"
   ]
  },
  {
   "cell_type": "code",
   "execution_count": 129,
   "metadata": {},
   "outputs": [],
   "source": [
    "# articles と customersをtransactionsを使って結合する\n",
    "def create_features(articles_df,customers_df,transactions_train_df):\n",
    "    tt_temp = transactions_train_df[[\"customer_id\",\"article_id\"]]\n",
    "    a_df = articles_df[[\"article_id\",\"index_group_no\"]]\n",
    "    c_df = customers_df[[\"customer_id\",\"age\"]]\n",
    "    at_merged_df =  pd.merge(tt_temp,a_df)\n",
    "    features_df = pd.merge(c_df,at_merged_df)\n",
    "    features_df = features_df.dropna(how=\"all\")\n",
    "    return features_df"
   ]
  },
  {
   "cell_type": "code",
   "execution_count": 130,
   "metadata": {},
   "outputs": [],
   "source": [
    "features_df = create_features(articles_df,customers_df,transactions_train_df)"
   ]
  },
  {
   "cell_type": "code",
   "execution_count": 131,
   "metadata": {},
   "outputs": [],
   "source": [
    "# ageの欠損値を0で埋める\n",
    "def fillna_to_zero_in_age(df):\n",
    "    df[\"age\"] = df[\"age\"].fillna(0)\n",
    "    return df"
   ]
  },
  {
   "cell_type": "code",
   "execution_count": 132,
   "metadata": {},
   "outputs": [],
   "source": [
    "features_dfb = fillna_to_zero_in_age(features_df)"
   ]
  },
  {
   "cell_type": "code",
   "execution_count": 134,
   "metadata": {},
   "outputs": [],
   "source": [
    "# 年齢を10ごとにする\n",
    "def convert_age_into_10_delimited(df):\n",
    "    df[\"age\"] = df[\"age\"].astype(np.int64) \n",
    "    df[\"age\"] = df[\"age\"] / 10\n",
    "    df[\"age\"] = df[\"age\"].astype(np.int64) \n",
    "    df[\"age\"] = df[\"age\"] * 10\n",
    "    return df\n",
    "features_df = convert_age_into_10_delimited(features_df)"
   ]
  },
  {
   "cell_type": "code",
   "execution_count": 135,
   "metadata": {},
   "outputs": [],
   "source": [
    "# customer_idごとにindex_group_noの最頻値を取る\n",
    "def create_df_mode_index_group_no(df):\n",
    "    df = df.groupby([\"age\",\"customer_id\"])[\"index_group_no\"].agg(lambda x:x.mode()[0]).reset_index()\n",
    "    return df"
   ]
  },
  {
   "cell_type": "code",
   "execution_count": 136,
   "metadata": {},
   "outputs": [],
   "source": [
    "mode_index_group_no_df = create_df_mode_index_group_no(features_df)"
   ]
  },
  {
   "cell_type": "code",
   "execution_count": 137,
   "metadata": {},
   "outputs": [],
   "source": [
    "mode_index_group_no_df[\"index_group_no\"] = mode_index_group_no_df[\"index_group_no\"].astype(\"string\")\n",
    "topn_df[\"index_group_no\"] = topn_df[\"index_group_no\"].astype(\"string\")"
   ]
  },
  {
   "cell_type": "code",
   "execution_count": 138,
   "metadata": {},
   "outputs": [],
   "source": [
    "# mode_index_group_no_dfとtopn_dfの左側結合\n",
    "merged_df = pd.merge(mode_index_group_no_df, topn_df, on=[\"age\",\"index_group_no\"], how=\"left\")"
   ]
  },
  {
   "cell_type": "code",
   "execution_count": 139,
   "metadata": {},
   "outputs": [],
   "source": [
    "# NANの最頻値保管\n",
    "def fillna_topn(df):\n",
    "    df = df.fillna(df.mode().iloc[0])\n",
    "    return df"
   ]
  },
  {
   "cell_type": "code",
   "execution_count": 149,
   "metadata": {},
   "outputs": [],
   "source": [
    "merged_topn_df = fillna_topn(merged_df.copy())"
   ]
  },
  {
   "cell_type": "code",
   "execution_count": 150,
   "metadata": {},
   "outputs": [],
   "source": [
    "\n",
    "merged_topn_df.to_pickle(\"./temp_data/0417_full.pkl\")"
   ]
  },
  {
   "cell_type": "code",
   "execution_count": 152,
   "metadata": {},
   "outputs": [],
   "source": [
    "# sample　submissionの順番にしたいのでsample_submission_dfと左結合\n",
    "# ageとindex_group_noをドロップ\n",
    "customer_id_and_tops_df = merged_topn_df.drop([\"age\",\"index_group_no\"],axis=1)\n",
    "\n",
    "customer_id_df = sample_submission_df[[\"customer_id\"]]\n",
    "correct_customer_id_df  = pd.merge(customer_id_df, customer_id_and_tops_df, how='left')\n"
   ]
  },
  {
   "cell_type": "code",
   "execution_count": 118,
   "metadata": {},
   "outputs": [],
   "source": [
    "# topsをジョインしてpredictionを作る＋いらないやつを消す\n",
    "\n",
    "def join_tops(df):\n",
    "        \n",
    "    df[\"prediction\"] = df['top1'].astype(str) + ' ' + df['top2'].astype(str)+ ' ' + df['top3'].astype(str)+ ' ' + df['top4'].astype(str)+ ' ' + df['top5'].astype(str)+ ' ' + df['top6'].astype(str)+ ' ' + df['top7'].astype(str) + ' ' + df['top8'].astype(str) + ' ' + df['top9'].astype(str)+ ' ' + df['top10'].astype(str) + ' ' + df['top11'].astype(str) + ' ' + df['top12'].astype(str)\n",
    "    return df"
   ]
  },
  {
   "cell_type": "code",
   "execution_count": 117,
   "metadata": {},
   "outputs": [],
   "source": [
    "perfect_df = correct_customer_id_df.fillna(correct_customer_id_df.mode().iloc[0])\n"
   ]
  },
  {
   "cell_type": "code",
   "execution_count": 119,
   "metadata": {},
   "outputs": [],
   "source": [
    "submission_df = join_tops(perfect_df)[[\"customer_id\",\"prediction\"]]"
   ]
  },
  {
   "cell_type": "code",
   "execution_count": 120,
   "metadata": {},
   "outputs": [
    {
     "data": {
      "text/html": [
       "<div>\n",
       "<style scoped>\n",
       "    .dataframe tbody tr th:only-of-type {\n",
       "        vertical-align: middle;\n",
       "    }\n",
       "\n",
       "    .dataframe tbody tr th {\n",
       "        vertical-align: top;\n",
       "    }\n",
       "\n",
       "    .dataframe thead th {\n",
       "        text-align: right;\n",
       "    }\n",
       "</style>\n",
       "<table border=\"1\" class=\"dataframe\">\n",
       "  <thead>\n",
       "    <tr style=\"text-align: right;\">\n",
       "      <th></th>\n",
       "      <th>customer_id</th>\n",
       "      <th>prediction</th>\n",
       "    </tr>\n",
       "  </thead>\n",
       "  <tbody>\n",
       "    <tr>\n",
       "      <th>0</th>\n",
       "      <td>00000dbacae5abe5e23885899a1fa44253a17956c6d1c3...</td>\n",
       "      <td>372860001 610776002 372860002 568601006 399256...</td>\n",
       "    </tr>\n",
       "    <tr>\n",
       "      <th>1</th>\n",
       "      <td>0000423b00ade91418cceaf3b26c6af3dd342b51fd051e...</td>\n",
       "      <td>372860001 156231001 464297007 610776002 372860...</td>\n",
       "    </tr>\n",
       "    <tr>\n",
       "      <th>2</th>\n",
       "      <td>000058a12d5b43e67d225668fa1f8d618c13dc232df0ca...</td>\n",
       "      <td>372860001 156231001 464297007 610776002 372860...</td>\n",
       "    </tr>\n",
       "    <tr>\n",
       "      <th>3</th>\n",
       "      <td>00005ca1c9ed5f5146b52ac8639a40ca9d57aeff4d1bd2...</td>\n",
       "      <td>720125001 484398001 740519002 730683001 564786...</td>\n",
       "    </tr>\n",
       "    <tr>\n",
       "      <th>4</th>\n",
       "      <td>00006413d8573cd20ed7128e53b7b13819fe5cfc2d801f...</td>\n",
       "      <td>372860001 568601006 372860002 610776002 751471...</td>\n",
       "    </tr>\n",
       "    <tr>\n",
       "      <th>...</th>\n",
       "      <td>...</td>\n",
       "      <td>...</td>\n",
       "    </tr>\n",
       "    <tr>\n",
       "      <th>1371975</th>\n",
       "      <td>ffffbbf78b6eaac697a8a5dfbfd2bfa8113ee5b403e474...</td>\n",
       "      <td>372860001 156231001 464297007 610776002 372860...</td>\n",
       "    </tr>\n",
       "    <tr>\n",
       "      <th>1371976</th>\n",
       "      <td>ffffcd5046a6143d29a04fb8c424ce494a76e5cdf4fab5...</td>\n",
       "      <td>706016001 706016002 759871002 448509014 399223...</td>\n",
       "    </tr>\n",
       "    <tr>\n",
       "      <th>1371977</th>\n",
       "      <td>ffffcf35913a0bee60e8741cb2b4e78b8a98ee5ff2e6a1...</td>\n",
       "      <td>372860001 156231001 464297007 610776002 372860...</td>\n",
       "    </tr>\n",
       "    <tr>\n",
       "      <th>1371978</th>\n",
       "      <td>ffffd7744cebcf3aca44ae7049d2a94b87074c3d4ffe38...</td>\n",
       "      <td>706016001 759871002 706016002 759871001 733749...</td>\n",
       "    </tr>\n",
       "    <tr>\n",
       "      <th>1371979</th>\n",
       "      <td>ffffd9ac14e89946416d80e791d064701994755c3ab686...</td>\n",
       "      <td>579541001 399256005 610776002 399256001 610776...</td>\n",
       "    </tr>\n",
       "  </tbody>\n",
       "</table>\n",
       "<p>1371980 rows × 2 columns</p>\n",
       "</div>"
      ],
      "text/plain": [
       "                                               customer_id  \\\n",
       "0        00000dbacae5abe5e23885899a1fa44253a17956c6d1c3...   \n",
       "1        0000423b00ade91418cceaf3b26c6af3dd342b51fd051e...   \n",
       "2        000058a12d5b43e67d225668fa1f8d618c13dc232df0ca...   \n",
       "3        00005ca1c9ed5f5146b52ac8639a40ca9d57aeff4d1bd2...   \n",
       "4        00006413d8573cd20ed7128e53b7b13819fe5cfc2d801f...   \n",
       "...                                                    ...   \n",
       "1371975  ffffbbf78b6eaac697a8a5dfbfd2bfa8113ee5b403e474...   \n",
       "1371976  ffffcd5046a6143d29a04fb8c424ce494a76e5cdf4fab5...   \n",
       "1371977  ffffcf35913a0bee60e8741cb2b4e78b8a98ee5ff2e6a1...   \n",
       "1371978  ffffd7744cebcf3aca44ae7049d2a94b87074c3d4ffe38...   \n",
       "1371979  ffffd9ac14e89946416d80e791d064701994755c3ab686...   \n",
       "\n",
       "                                                prediction  \n",
       "0        372860001 610776002 372860002 568601006 399256...  \n",
       "1        372860001 156231001 464297007 610776002 372860...  \n",
       "2        372860001 156231001 464297007 610776002 372860...  \n",
       "3        720125001 484398001 740519002 730683001 564786...  \n",
       "4        372860001 568601006 372860002 610776002 751471...  \n",
       "...                                                    ...  \n",
       "1371975  372860001 156231001 464297007 610776002 372860...  \n",
       "1371976  706016001 706016002 759871002 448509014 399223...  \n",
       "1371977  372860001 156231001 464297007 610776002 372860...  \n",
       "1371978  706016001 759871002 706016002 759871001 733749...  \n",
       "1371979  579541001 399256005 610776002 399256001 610776...  \n",
       "\n",
       "[1371980 rows x 2 columns]"
      ]
     },
     "execution_count": 120,
     "metadata": {},
     "output_type": "execute_result"
    }
   ],
   "source": [
    "# 終わり！\n",
    "submission_df"
   ]
  },
  {
   "cell_type": "code",
   "execution_count": 123,
   "metadata": {},
   "outputs": [],
   "source": [
    "# save\n",
    "submission_df.to_csv(\"./temp_data/submission.csv\", index=False)"
   ]
  },
  {
   "cell_type": "markdown",
   "metadata": {},
   "source": [
    "# まとめ\n",
    "\n",
    "## 次やること\n",
    "- 0417はなぜかcustomer idが足りていないのでsampleと左結語して欠損値を埋める\n",
    "- 0320フルバージョンで出してこれも結合すること"
   ]
  }
 ],
 "metadata": {
  "interpreter": {
   "hash": "79fc88ebea400275260e0d1b44598d69a290f10bcc1dc00a277564d4c1f0ef53"
  },
  "kernelspec": {
   "display_name": "Python 3.8.9 ('Kaggle-H-M-CF8OMQux')",
   "language": "python",
   "name": "python3"
  },
  "language_info": {
   "codemirror_mode": {
    "name": "ipython",
    "version": 3
   },
   "file_extension": ".py",
   "mimetype": "text/x-python",
   "name": "python",
   "nbconvert_exporter": "python",
   "pygments_lexer": "ipython3",
   "version": "3.8.9"
  },
  "orig_nbformat": 4
 },
 "nbformat": 4,
 "nbformat_minor": 2
}
