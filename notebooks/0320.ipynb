{
 "cells": [
  {
   "cell_type": "markdown",
   "metadata": {},
   "source": [
    "# 3/20\n",
    "- やったこと\n",
    "    - \tage\tindex_group_no\ttop12のテーブルを作った"
   ]
  },
  {
   "cell_type": "code",
   "execution_count": 1,
   "metadata": {},
   "outputs": [],
   "source": [
    "import pandas as pd\n",
    "import numpy as np"
   ]
  },
  {
   "cell_type": "code",
   "execution_count": 2,
   "metadata": {},
   "outputs": [],
   "source": [
    "# データの読み込み\n",
    "DATA_DIR = \"../data/original/\"\n",
    "articles_df=pd.read_pickle(f'{DATA_DIR}articles.pkl')\n",
    "customers_df=pd.read_pickle(f'{DATA_DIR}customers.pkl')\n",
    "transactions_train_df=pd.read_pickle(f'{DATA_DIR}transactions_train.pkl')"
   ]
  },
  {
   "cell_type": "code",
   "execution_count": 3,
   "metadata": {},
   "outputs": [],
   "source": [
    "#articles_df = articles_df.head(10000)\n",
    "#customers_df = customers_df.head(10000)\n",
    "#transactions_train_df = transactions_train_df.head(10000)"
   ]
  },
  {
   "cell_type": "code",
   "execution_count": 4,
   "metadata": {},
   "outputs": [],
   "source": [
    "# articles と customersをtransactionsを使って結合する\n",
    "def create_features(articles_df,customers_df,transactions_train_df):\n",
    "    tt_temp = transactions_train_df[[\"customer_id\",\"article_id\"]]\n",
    "    a_df = articles_df[[\"article_id\",\"index_group_no\"]]\n",
    "    c_df = customers_df[[\"customer_id\",\"age\"]]\n",
    "    at_merged_df =  pd.merge(tt_temp,a_df)\n",
    "    features_df = pd.merge(c_df,at_merged_df)\n",
    "    features_df = features_df.dropna(how=\"all\")\n",
    "    return features_df"
   ]
  },
  {
   "cell_type": "code",
   "execution_count": 5,
   "metadata": {},
   "outputs": [],
   "source": [
    "# １０までとってくる\n",
    "def convert_age_into_10_delimited(df):\n",
    "    df[\"age\"] = df[\"age\"] / 10\n",
    "    df[\"age\"] = df[\"age\"].astype(np.int64) \n",
    "    df[\"age\"] = df[\"age\"] * 10\n",
    "    return df"
   ]
  },
  {
   "cell_type": "code",
   "execution_count": 6,
   "metadata": {},
   "outputs": [],
   "source": [
    "features_df = create_features(articles_df,customers_df,transactions_train_df)"
   ]
  },
  {
   "cell_type": "code",
   "execution_count": 7,
   "metadata": {},
   "outputs": [],
   "source": [
    "# ageの欠損値を0で埋める\n",
    "def fillna_to_zero_in_age(df):\n",
    "    df[\"age\"] = df[\"age\"].fillna(0)\n",
    "    return df\n",
    "features_df = fillna_to_zero_in_age(features_df)"
   ]
  },
  {
   "cell_type": "code",
   "execution_count": 8,
   "metadata": {},
   "outputs": [],
   "source": [
    "features_df = convert_age_into_10_delimited(features_df)"
   ]
  },
  {
   "cell_type": "code",
   "execution_count": 9,
   "metadata": {},
   "outputs": [],
   "source": [
    "# top 12のarticles_id\n",
    "articles_most_buy_30 = list(features_df['article_id'].value_counts().head(30).index)"
   ]
  },
  {
   "cell_type": "code",
   "execution_count": 14,
   "metadata": {},
   "outputs": [],
   "source": [
    "df = features_df\n",
    "\n",
    "# ageとindex?group"
   ]
  },
  {
   "cell_type": "code",
   "execution_count": 15,
   "metadata": {},
   "outputs": [
    {
     "data": {
      "text/html": [
       "<div>\n",
       "<style scoped>\n",
       "    .dataframe tbody tr th:only-of-type {\n",
       "        vertical-align: middle;\n",
       "    }\n",
       "\n",
       "    .dataframe tbody tr th {\n",
       "        vertical-align: top;\n",
       "    }\n",
       "\n",
       "    .dataframe thead th {\n",
       "        text-align: right;\n",
       "    }\n",
       "</style>\n",
       "<table border=\"1\" class=\"dataframe\">\n",
       "  <thead>\n",
       "    <tr style=\"text-align: right;\">\n",
       "      <th></th>\n",
       "      <th>age</th>\n",
       "      <th>index_group_no</th>\n",
       "      <th>article_id</th>\n",
       "    </tr>\n",
       "  </thead>\n",
       "  <tbody>\n",
       "    <tr>\n",
       "      <th>0</th>\n",
       "      <td>0</td>\n",
       "      <td>1</td>\n",
       "      <td>[656719005, 568601006, 568601006, 607642008, 7...</td>\n",
       "    </tr>\n",
       "    <tr>\n",
       "      <th>1</th>\n",
       "      <td>0</td>\n",
       "      <td>2</td>\n",
       "      <td>[745232001, 890498002, 377277001, 640244003, 6...</td>\n",
       "    </tr>\n",
       "    <tr>\n",
       "      <th>2</th>\n",
       "      <td>0</td>\n",
       "      <td>3</td>\n",
       "      <td>[176209023, 727808001, 727808007, 852643003, 8...</td>\n",
       "    </tr>\n",
       "    <tr>\n",
       "      <th>3</th>\n",
       "      <td>0</td>\n",
       "      <td>4</td>\n",
       "      <td>[627759010, 625548001, 697138006, 694736004, 7...</td>\n",
       "    </tr>\n",
       "    <tr>\n",
       "      <th>4</th>\n",
       "      <td>0</td>\n",
       "      <td>26</td>\n",
       "      <td>[863103001, 794321007, 732413001, 742079001, 7...</td>\n",
       "    </tr>\n",
       "  </tbody>\n",
       "</table>\n",
       "</div>"
      ],
      "text/plain": [
       "   age  index_group_no                                         article_id\n",
       "0    0               1  [656719005, 568601006, 568601006, 607642008, 7...\n",
       "1    0               2  [745232001, 890498002, 377277001, 640244003, 6...\n",
       "2    0               3  [176209023, 727808001, 727808007, 852643003, 8...\n",
       "3    0               4  [627759010, 625548001, 697138006, 694736004, 7...\n",
       "4    0              26  [863103001, 794321007, 732413001, 742079001, 7..."
      ]
     },
     "execution_count": 15,
     "metadata": {},
     "output_type": "execute_result"
    }
   ],
   "source": [
    "count = 0\n",
    "\n",
    "df = df.groupby([\"age\",\"index_group_no\"])[\"article_id\"].agg(lambda x:list(x)).reset_index()\n",
    "df"
   ]
  },
  {
   "cell_type": "code",
   "execution_count": 16,
   "metadata": {},
   "outputs": [],
   "source": [
    "# 上位12のarticle idをとってきておく\n",
    "TOP_N = 12\n",
    "def calc_top(ids):\n",
    "    ids= sorted(ids)\n",
    "    if len(ids) < TOP_N:\n",
    "        return [*ids, *articles_most_buy_30][0:TOP_N]\n",
    "    else:\n",
    "        return ids[0:TOP_N]\n",
    "df[[f\"top{i}\" for i in range(1,TOP_N+1)]] = df.apply(lambda x: calc_top(x[\"article_id\"]), axis = 1,result_type='expand')\n",
    "df = df.drop([\"article_id\"],axis=1)"
   ]
  },
  {
   "cell_type": "code",
   "execution_count": 17,
   "metadata": {},
   "outputs": [
    {
     "data": {
      "text/html": [
       "<div>\n",
       "<style scoped>\n",
       "    .dataframe tbody tr th:only-of-type {\n",
       "        vertical-align: middle;\n",
       "    }\n",
       "\n",
       "    .dataframe tbody tr th {\n",
       "        vertical-align: top;\n",
       "    }\n",
       "\n",
       "    .dataframe thead th {\n",
       "        text-align: right;\n",
       "    }\n",
       "</style>\n",
       "<table border=\"1\" class=\"dataframe\">\n",
       "  <thead>\n",
       "    <tr style=\"text-align: right;\">\n",
       "      <th></th>\n",
       "      <th>age</th>\n",
       "      <th>index_group_no</th>\n",
       "      <th>top1</th>\n",
       "      <th>top2</th>\n",
       "      <th>top3</th>\n",
       "      <th>top4</th>\n",
       "      <th>top5</th>\n",
       "      <th>top6</th>\n",
       "      <th>top7</th>\n",
       "      <th>top8</th>\n",
       "      <th>top9</th>\n",
       "      <th>top10</th>\n",
       "      <th>top11</th>\n",
       "      <th>top12</th>\n",
       "    </tr>\n",
       "  </thead>\n",
       "  <tbody>\n",
       "    <tr>\n",
       "      <th>0</th>\n",
       "      <td>0</td>\n",
       "      <td>1</td>\n",
       "      <td>108775015</td>\n",
       "      <td>108775015</td>\n",
       "      <td>108775015</td>\n",
       "      <td>108775015</td>\n",
       "      <td>108775015</td>\n",
       "      <td>108775015</td>\n",
       "      <td>108775015</td>\n",
       "      <td>108775015</td>\n",
       "      <td>108775015</td>\n",
       "      <td>108775015</td>\n",
       "      <td>108775015</td>\n",
       "      <td>108775015</td>\n",
       "    </tr>\n",
       "    <tr>\n",
       "      <th>1</th>\n",
       "      <td>0</td>\n",
       "      <td>2</td>\n",
       "      <td>162074062</td>\n",
       "      <td>162074062</td>\n",
       "      <td>162074062</td>\n",
       "      <td>162074062</td>\n",
       "      <td>162074062</td>\n",
       "      <td>162074062</td>\n",
       "      <td>162074062</td>\n",
       "      <td>162074062</td>\n",
       "      <td>162074062</td>\n",
       "      <td>162074062</td>\n",
       "      <td>162074062</td>\n",
       "      <td>162074062</td>\n",
       "    </tr>\n",
       "    <tr>\n",
       "      <th>2</th>\n",
       "      <td>0</td>\n",
       "      <td>3</td>\n",
       "      <td>118458003</td>\n",
       "      <td>118458003</td>\n",
       "      <td>118458003</td>\n",
       "      <td>118458003</td>\n",
       "      <td>118458003</td>\n",
       "      <td>118458003</td>\n",
       "      <td>118458003</td>\n",
       "      <td>118458003</td>\n",
       "      <td>118458003</td>\n",
       "      <td>118458003</td>\n",
       "      <td>118458003</td>\n",
       "      <td>118458003</td>\n",
       "    </tr>\n",
       "    <tr>\n",
       "      <th>3</th>\n",
       "      <td>0</td>\n",
       "      <td>4</td>\n",
       "      <td>112679048</td>\n",
       "      <td>112679048</td>\n",
       "      <td>112679048</td>\n",
       "      <td>112679052</td>\n",
       "      <td>112679052</td>\n",
       "      <td>112679052</td>\n",
       "      <td>141661022</td>\n",
       "      <td>141661022</td>\n",
       "      <td>141661025</td>\n",
       "      <td>146706001</td>\n",
       "      <td>146706001</td>\n",
       "      <td>146706001</td>\n",
       "    </tr>\n",
       "    <tr>\n",
       "      <th>4</th>\n",
       "      <td>0</td>\n",
       "      <td>26</td>\n",
       "      <td>145872001</td>\n",
       "      <td>145872001</td>\n",
       "      <td>145872001</td>\n",
       "      <td>145872001</td>\n",
       "      <td>145872001</td>\n",
       "      <td>145872001</td>\n",
       "      <td>145872001</td>\n",
       "      <td>145872001</td>\n",
       "      <td>145872001</td>\n",
       "      <td>145872001</td>\n",
       "      <td>145872001</td>\n",
       "      <td>145872001</td>\n",
       "    </tr>\n",
       "  </tbody>\n",
       "</table>\n",
       "</div>"
      ],
      "text/plain": [
       "   age  index_group_no       top1       top2       top3       top4       top5  \\\n",
       "0    0               1  108775015  108775015  108775015  108775015  108775015   \n",
       "1    0               2  162074062  162074062  162074062  162074062  162074062   \n",
       "2    0               3  118458003  118458003  118458003  118458003  118458003   \n",
       "3    0               4  112679048  112679048  112679048  112679052  112679052   \n",
       "4    0              26  145872001  145872001  145872001  145872001  145872001   \n",
       "\n",
       "        top6       top7       top8       top9      top10      top11      top12  \n",
       "0  108775015  108775015  108775015  108775015  108775015  108775015  108775015  \n",
       "1  162074062  162074062  162074062  162074062  162074062  162074062  162074062  \n",
       "2  118458003  118458003  118458003  118458003  118458003  118458003  118458003  \n",
       "3  112679052  141661022  141661022  141661025  146706001  146706001  146706001  \n",
       "4  145872001  145872001  145872001  145872001  145872001  145872001  145872001  "
      ]
     },
     "execution_count": 17,
     "metadata": {},
     "output_type": "execute_result"
    }
   ],
   "source": [
    "df.to_pickle()"
   ]
  },
  {
   "cell_type": "code",
   "execution_count": null,
   "metadata": {},
   "outputs": [],
   "source": []
  }
 ],
 "metadata": {
  "interpreter": {
   "hash": "79fc88ebea400275260e0d1b44598d69a290f10bcc1dc00a277564d4c1f0ef53"
  },
  "kernelspec": {
   "display_name": "Python 3.7.12 ('Kaggle-H-M-CF8OMQux')",
   "language": "python",
   "name": "python3"
  },
  "language_info": {
   "codemirror_mode": {
    "name": "ipython",
    "version": 3
   },
   "file_extension": ".py",
   "mimetype": "text/x-python",
   "name": "python",
   "nbconvert_exporter": "python",
   "pygments_lexer": "ipython3",
   "version": "3.8.9"
  },
  "orig_nbformat": 4
 },
 "nbformat": 4,
 "nbformat_minor": 2
}
